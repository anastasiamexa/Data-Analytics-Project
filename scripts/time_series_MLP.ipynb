{
  "nbformat": 4,
  "nbformat_minor": 0,
  "metadata": {
    "colab": {
      "name": "time series MLP.ipynb",
      "provenance": [],
      "collapsed_sections": []
    },
    "kernelspec": {
      "name": "python3",
      "display_name": "Python 3"
    },
    "language_info": {
      "name": "python"
    }
  },
  "cells": [
    {
      "cell_type": "code",
      "metadata": {
        "id": "4D9uy6FDsAp9"
      },
      "source": [
        "import pandas as pd\n",
        "from math import sqrt\n",
        "import numpy as np\n",
        "from itertools import chain\n",
        "from sklearn.preprocessing import MinMaxScaler\n",
        "from keras.models import Sequential\n",
        "from keras.layers import Dense\n",
        "import matplotlib.pyplot as plt\n",
        "from numpy import concatenate\n",
        "from sklearn.metrics import matthews_corrcoef\n",
        "from sklearn.metrics import confusion_matrix\n",
        "from sklearn.metrics import mean_squared_error, r2_score"
      ],
      "execution_count": 32,
      "outputs": []
    },
    {
      "cell_type": "code",
      "metadata": {
        "id": "XG-kc8sVr70o"
      },
      "source": [
        "def timeseries_to_supervised(df, n_in, n_out):\n",
        "  agg = pd.DataFrame()\n",
        "  for i in range(n_in, 0, -1):\n",
        "    df_shifted = df.shift(i).copy()\n",
        "    df_shifted.rename(columns=lambda x: ('%s(t-%d)' % (x, i)), inplace=True)\n",
        "    agg = pd.concat([agg, df_shifted], axis=1)\n",
        "  for i in range(0, n_out):\n",
        "    df_shifted = df.shift(-i).copy()\n",
        "    if i == 0:\n",
        "      df_shifted.rename(columns=lambda x: ('%s(t)' % (x)), inplace=True)\n",
        "    else:\n",
        "      df_shifted.rename(columns=lambda x: ('%s(t+%d)' % (x, i)), inplace=True)\n",
        "    agg = pd.concat([agg, df_shifted], axis=1)\n",
        "  agg.dropna(inplace=True)\n",
        "  return agg"
      ],
      "execution_count": 33,
      "outputs": []
    },
    {
      "cell_type": "code",
      "metadata": {
        "colab": {
          "base_uri": "https://localhost:8080/"
        },
        "id": "vubjKZeOsPKl",
        "outputId": "d638341c-aa3d-4d20-d3d5-4f208db6d0cd"
      },
      "source": [
        "X = pd.read_excel('data_akbilgic(1).xlsx',usecols = \"B:I\")  # loading the data\n",
        "\n",
        "# normalize features\n",
        "scaler = MinMaxScaler(feature_range=(0, 1))\n",
        "scaled = scaler.fit_transform(X)\n",
        "\n",
        "# convert ndarray to pandas dataframe\n",
        "scaled = pd.DataFrame(scaled, columns=[\"data.1\", \"data.2\", \"data.3\", \"data.4\", \"data.5\", \"data.6\", \"data.7\", \"data.8\"])\n",
        "\n",
        "n_steps = 6\n",
        "sdf = timeseries_to_supervised(scaled, n_steps, 1)\n",
        "lst = []\n",
        "for i in range(1,8):\n",
        "  lst.append((n_steps+1)*8 - i)\n",
        "# removing the columns we do not need (SP(t), DAX(t), FTSE(t), NIKKEI(t), BOVESPA(t), EU(t), EM(t))\n",
        "sdf.drop(sdf.columns[lst], axis=1, inplace=True)\n",
        "print(sdf)\n",
        "#sdf.to_excel(\"test.xlsx\")"
      ],
      "execution_count": 34,
      "outputs": [
        {
          "output_type": "stream",
          "text": [
            "     data.1(t-6)  data.2(t-6)  data.3(t-6)  ...  data.7(t-1)  data.8(t-1)  data.1(t)\n",
            "6       0.664154     0.404333     0.489969  ...     0.313877     0.184496   0.455624\n",
            "7       0.628741     0.505990     0.546240  ...     0.315871     0.390618   0.265266\n",
            "8       0.314902     0.194024     0.310007  ...     0.031043     0.346048   0.363922\n",
            "9       0.000000     0.470147     0.364884  ...     0.317164     0.175245   0.631251\n",
            "10      0.509203     0.266894     0.291678  ...     0.495236     0.572906   0.217804\n",
            "..           ...          ...          ...  ...          ...          ...        ...\n",
            "525     0.409163     0.504739     0.438167  ...     0.492265     0.407771   0.494245\n",
            "526     0.647323     0.577499     0.604836  ...     0.455700     0.394418   0.439530\n",
            "527     0.533918     0.420259     0.469508  ...     0.395244     0.281535   0.322631\n",
            "528     0.306824     0.461667     0.482772  ...     0.389044     0.275618   0.491722\n",
            "529     0.532410     0.465978     0.498359  ...     0.462147     0.492021   0.459275\n",
            "\n",
            "[524 rows x 49 columns]\n"
          ],
          "name": "stdout"
        }
      ]
    },
    {
      "cell_type": "code",
      "metadata": {
        "colab": {
          "base_uri": "https://localhost:8080/"
        },
        "id": "wpnwfY5y46Zx",
        "outputId": "cdfad7f4-ecb2-4659-e7ca-9b2d3b34ea74"
      },
      "source": [
        "sdf = sdf.values\n",
        "\n",
        "# Split data into train and test\n",
        "len_data = sdf.shape[0]\n",
        "print(\"Total length of data:\", len_data)\n",
        "train_size = int(len_data * .7)\n",
        "print (\"Train size: %d\" % train_size)\n",
        "print (\"Test size: %d\" % (len_data - train_size))\n",
        "\n",
        "train = sdf[:train_size, :]\n",
        "test = sdf[train_size:, :]\n",
        "\n",
        "# split into input and outputs\n",
        "train_X, train_y = train[:, :-1], train[:, -1]\n",
        "test_X, test_y = test[:, :-1], test[:, -1]\n",
        "\n",
        "# reshape input to be 3D [samples, timesteps, features]\n",
        "train_X = train_X.reshape((train_X.shape[0], 1, train_X.shape[1]))\n",
        "test_X = test_X.reshape((test_X.shape[0], 1, test_X.shape[1]))\n",
        "\n",
        "print(train_X.shape, train_y.shape, test_X.shape, test_y.shape)\n"
      ],
      "execution_count": 35,
      "outputs": [
        {
          "output_type": "stream",
          "text": [
            "Total length of data: 524\n",
            "Train size: 366\n",
            "Test size: 158\n",
            "(366, 1, 48) (366,) (158, 1, 48) (158,)\n"
          ],
          "name": "stdout"
        }
      ]
    },
    {
      "cell_type": "code",
      "metadata": {
        "id": "UHH7EQTZes3I",
        "colab": {
          "base_uri": "https://localhost:8080/",
          "height": 1000
        },
        "outputId": "fdd8aeba-8595-4045-d517-b9253b516435"
      },
      "source": [
        "# Building a model with MLP\n",
        "batch_size = 1 #1\n",
        "model = Sequential()\n",
        "\n",
        "model.add(Dense(units=300, input_shape=(train_X.shape[1], train_X.shape[2]), activation=\"relu\"))\n",
        "model.add(Dense(100, activation=\"relu\")) \n",
        "model.add(Dense(1))\n",
        "model.compile(loss='mean_squared_error', optimizer='adam')\n",
        "model.summary()\n",
        "\n",
        "history = model.fit(train_X, train_y, epochs=50, batch_size=batch_size, verbose=2)\n",
        "\n",
        "# plot history\n",
        "plt.plot(history.history['loss'], label='loss')\n",
        "plt.legend()\n",
        "plt.show()"
      ],
      "execution_count": 36,
      "outputs": [
        {
          "output_type": "stream",
          "text": [
            "Model: \"sequential_3\"\n",
            "_________________________________________________________________\n",
            "Layer (type)                 Output Shape              Param #   \n",
            "=================================================================\n",
            "dense_9 (Dense)              (None, 1, 300)            14700     \n",
            "_________________________________________________________________\n",
            "dense_10 (Dense)             (None, 1, 100)            30100     \n",
            "_________________________________________________________________\n",
            "dense_11 (Dense)             (None, 1, 1)              101       \n",
            "=================================================================\n",
            "Total params: 44,901\n",
            "Trainable params: 44,901\n",
            "Non-trainable params: 0\n",
            "_________________________________________________________________\n",
            "Epoch 1/50\n",
            "366/366 - 1s - loss: 0.0280\n",
            "Epoch 2/50\n",
            "366/366 - 0s - loss: 0.0187\n",
            "Epoch 3/50\n",
            "366/366 - 0s - loss: 0.0150\n",
            "Epoch 4/50\n",
            "366/366 - 0s - loss: 0.0161\n",
            "Epoch 5/50\n",
            "366/366 - 0s - loss: 0.0155\n",
            "Epoch 6/50\n",
            "366/366 - 0s - loss: 0.0145\n",
            "Epoch 7/50\n",
            "366/366 - 0s - loss: 0.0160\n",
            "Epoch 8/50\n",
            "366/366 - 0s - loss: 0.0136\n",
            "Epoch 9/50\n",
            "366/366 - 0s - loss: 0.0131\n",
            "Epoch 10/50\n",
            "366/366 - 0s - loss: 0.0139\n",
            "Epoch 11/50\n",
            "366/366 - 0s - loss: 0.0142\n",
            "Epoch 12/50\n",
            "366/366 - 0s - loss: 0.0138\n",
            "Epoch 13/50\n",
            "366/366 - 0s - loss: 0.0142\n",
            "Epoch 14/50\n",
            "366/366 - 0s - loss: 0.0132\n",
            "Epoch 15/50\n",
            "366/366 - 0s - loss: 0.0133\n",
            "Epoch 16/50\n",
            "366/366 - 0s - loss: 0.0121\n",
            "Epoch 17/50\n",
            "366/366 - 0s - loss: 0.0124\n",
            "Epoch 18/50\n",
            "366/366 - 0s - loss: 0.0126\n",
            "Epoch 19/50\n",
            "366/366 - 0s - loss: 0.0118\n",
            "Epoch 20/50\n",
            "366/366 - 0s - loss: 0.0120\n",
            "Epoch 21/50\n",
            "366/366 - 0s - loss: 0.0115\n",
            "Epoch 22/50\n",
            "366/366 - 0s - loss: 0.0112\n",
            "Epoch 23/50\n",
            "366/366 - 0s - loss: 0.0119\n",
            "Epoch 24/50\n",
            "366/366 - 0s - loss: 0.0109\n",
            "Epoch 25/50\n",
            "366/366 - 0s - loss: 0.0115\n",
            "Epoch 26/50\n",
            "366/366 - 0s - loss: 0.0109\n",
            "Epoch 27/50\n",
            "366/366 - 0s - loss: 0.0111\n",
            "Epoch 28/50\n",
            "366/366 - 0s - loss: 0.0099\n",
            "Epoch 29/50\n",
            "366/366 - 0s - loss: 0.0110\n",
            "Epoch 30/50\n",
            "366/366 - 0s - loss: 0.0103\n",
            "Epoch 31/50\n",
            "366/366 - 0s - loss: 0.0107\n",
            "Epoch 32/50\n",
            "366/366 - 0s - loss: 0.0102\n",
            "Epoch 33/50\n",
            "366/366 - 0s - loss: 0.0102\n",
            "Epoch 34/50\n",
            "366/366 - 0s - loss: 0.0099\n",
            "Epoch 35/50\n",
            "366/366 - 0s - loss: 0.0099\n",
            "Epoch 36/50\n",
            "366/366 - 0s - loss: 0.0091\n",
            "Epoch 37/50\n",
            "366/366 - 0s - loss: 0.0099\n",
            "Epoch 38/50\n",
            "366/366 - 0s - loss: 0.0105\n",
            "Epoch 39/50\n",
            "366/366 - 0s - loss: 0.0097\n",
            "Epoch 40/50\n",
            "366/366 - 0s - loss: 0.0099\n",
            "Epoch 41/50\n",
            "366/366 - 0s - loss: 0.0092\n",
            "Epoch 42/50\n",
            "366/366 - 0s - loss: 0.0099\n",
            "Epoch 43/50\n",
            "366/366 - 0s - loss: 0.0092\n",
            "Epoch 44/50\n",
            "366/366 - 0s - loss: 0.0092\n",
            "Epoch 45/50\n",
            "366/366 - 0s - loss: 0.0095\n",
            "Epoch 46/50\n",
            "366/366 - 0s - loss: 0.0091\n",
            "Epoch 47/50\n",
            "366/366 - 0s - loss: 0.0094\n",
            "Epoch 48/50\n",
            "366/366 - 0s - loss: 0.0092\n",
            "Epoch 49/50\n",
            "366/366 - 0s - loss: 0.0090\n",
            "Epoch 50/50\n",
            "366/366 - 0s - loss: 0.0092\n"
          ],
          "name": "stdout"
        },
        {
          "output_type": "display_data",
          "data": {
            "image/png": "[encoded data removed]",
            "text/plain": [
              "<Figure size 432x288 with 1 Axes>"
            ]
          },
          "metadata": {
            "tags": [],
            "needs_background": "light"
          }
        }
      ]
    },
    {
      "cell_type": "code",
      "metadata": {
        "colab": {
          "base_uri": "https://localhost:8080/"
        },
        "id": "4TfHJRo-Jj7Z",
        "outputId": "20edd3f7-e69c-4e68-f010-abfa5bfd30f1"
      },
      "source": [
        "# make a prediction\n",
        "testPredict = model.predict(test_X)\n",
        "test_X = test_X.reshape((test_X.shape[0], test_X.shape[2]))\n",
        "\n",
        "# invert scaling for prediction\n",
        "testPredict = np.reshape(testPredict, (testPredict.shape[0], 1))\n",
        "inv_testPredict = concatenate((testPredict, test_X[:, -7:]), axis=1)\n",
        "inv_testPredict = scaler.inverse_transform(inv_testPredict)\n",
        "inv_testPredict = inv_testPredict[:,0]\n",
        "\n",
        "# invert scaling for actual\n",
        "test_y = test_y.reshape((len(test_y), 1))\n",
        "test_y = concatenate((test_y, test_X[:, -7:]), axis=1)\n",
        "test_y = scaler.inverse_transform(test_y)\n",
        "test_y = test_y[:,0]\n",
        "\n",
        "# calculate error\n",
        "print(\"Test MSE: \", mean_squared_error(test_y, inv_testPredict))\n",
        "print(\"Test MAE: \", sum(abs(test_y-inv_testPredict))/test_y.shape[0])\n",
        "print(\"Test R2: \", r2_score(test_y, inv_testPredict))\n",
        "\n",
        "trainPredict = model.predict(train_X)\n",
        "train_X = train_X.reshape((train_X.shape[0], train_X.shape[2]))\n",
        "\n",
        "# invert scaling for prediction\n",
        "trainPredict = np.reshape(trainPredict, (trainPredict.shape[0], 1))\n",
        "inv_trainPredict = concatenate((trainPredict, train_X[:, -7:]), axis=1)\n",
        "inv_trainPredict = scaler.inverse_transform(inv_trainPredict)\n",
        "inv_trainPredict = inv_trainPredict[:,0]\n",
        "\n",
        "# invert scaling for actual\n",
        "train_y = train_y.reshape((len(train_y), 1))\n",
        "train_y = concatenate((train_y, train_X[:, -7:]), axis=1)\n",
        "train_y = scaler.inverse_transform(train_y)\n",
        "train_y = train_y[:,0]"
      ],
      "execution_count": 37,
      "outputs": [
        {
          "output_type": "stream",
          "text": [
            "Test MSE:  0.0002291309216534686\n",
            "Test MAE:  0.011603969797428953\n",
            "Test R2:  0.032296151473321766\n"
          ],
          "name": "stdout"
        }
      ]
    },
    {
      "cell_type": "code",
      "metadata": {
        "colab": {
          "base_uri": "https://localhost:8080/",
          "height": 265
        },
        "id": "dOqDGI2Nc4C_",
        "outputId": "c965f44e-79bb-42cb-8cc8-f73a47e490fb"
      },
      "source": [
        "# Finally, we check the result in a plot. \n",
        "# A vertical line in a plot identifies a splitting point between \n",
        "# the training and the test part.\n",
        "predicted = np.concatenate((inv_trainPredict,inv_testPredict),axis=0)\n",
        "\n",
        "original = np.concatenate((train_y,test_y),axis=0)\n",
        "predicted = np.concatenate((inv_trainPredict,inv_testPredict),axis=0)\n",
        "index = range(0, original.shape[0])\n",
        "plt.plot(index,original, 'g')\n",
        "plt.plot(index,predicted, 'r')\n",
        "plt.axvline(scaled.index[train_size], c=\"b\")\n",
        "plt.show()"
      ],
      "execution_count": 38,
      "outputs": [
        {
          "output_type": "display_data",
          "data": {
            "image/png": "[encoded data removed]",
            "text/plain": [
              "<Figure size 432x288 with 1 Axes>"
            ]
          },
          "metadata": {
            "tags": [],
            "needs_background": "light"
          }
        }
      ]
    }
  ]
}